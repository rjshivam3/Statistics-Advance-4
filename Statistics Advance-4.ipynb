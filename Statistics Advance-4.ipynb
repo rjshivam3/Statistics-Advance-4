{
 "cells": [
  {
   "cell_type": "markdown",
   "id": "471b71f7-63d8-4b6d-b2d2-46a2e1b9c52b",
   "metadata": {},
   "source": [
    "## Q1: What is the difference between a t-test and a z-test? Provide an example scenario where you would use each type of test.\n",
    "\n",
    "### Answer:\n",
    "A t-test is used when the sample size is small (typically n < 30) and the population standard deviation is unknown. A z-test is used when the sample size is large (n >= 30) or the population standard deviation is known.\n",
    "\n",
    "### Example scenario for t-test:\n",
    "Comparing the means of two small independent samples to see if they come from the same population.\n",
    "\n",
    "### Example scenario for z-test:\n",
    "Comparing the sample mean to the population mean to determine if there is a significant difference when the sample size is large."
   ]
  },
  {
   "cell_type": "markdown",
   "id": "1b5de1e8-8ab3-43de-8bbb-ec7b26e47d38",
   "metadata": {},
   "source": [
    "## Q2: Differentiate between one-tailed and two-tailed tests\n",
    "\n",
    "### Answer:\n",
    "- A **one-tailed test** checks for a relationship in one direction (either greater than or less than).\n",
    "- A **two-tailed test** checks for a relationship in both directions (both greater than and less than).\n"
   ]
  },
  {
   "cell_type": "markdown",
   "id": "730a31ca-83c8-4398-b4da-2eeb793d129d",
   "metadata": {},
   "source": [
    "## Q3: Explain the concept of Type 1 and Type 2 errors in hypothesis testing. Provide an example scenario for each type of error.\n",
    "\n",
    "### Answer:\n",
    "- **Type 1 Error:** Rejecting the null hypothesis when it is actually true (false positive).\n",
    "- **Type 2 Error:** Failing to reject the null hypothesis when it is actually false (false negative).\n",
    "\n",
    "### Example of Type 1 Error:\n",
    "Concluding a new drug is effective when it is not.\n",
    "\n",
    "### Example of Type 2 Error:\n",
    "Concluding a new drug is not effective when it is."
   ]
  },
  {
   "cell_type": "markdown",
   "id": "ad85d463-7bed-4f98-9d0b-faf2cdd297ff",
   "metadata": {},
   "source": [
    "## Q4: Explain Bayes's theorem with an example.\n",
    "\n",
    "### Answer:\n",
    "Bayes's theorem describes the probability of an event based on prior knowledge of conditions related to the event. \n",
    "\n",
    "### Formula:\n",
    "\\[ P(A|B) = \\frac{P(B|A) \\cdot P(A)}{P(B)} \\]\n",
    "\n",
    "### Example:\n",
    "Probability of having a disease given a positive test result."
   ]
  },
  {
   "cell_type": "markdown",
   "id": "0469661a-35e8-4eb4-888a-7c08e2942e3a",
   "metadata": {},
   "source": [
    "# Q5: What is a confidence interval? How to calculate the confidence interval, explain with an example.\n",
    "\n"
   ]
  },
  {
   "cell_type": "code",
   "execution_count": 1,
   "id": "0212e3e4-5510-460f-abb7-86ab0fa2e252",
   "metadata": {},
   "outputs": [
    {
     "data": {
      "text/plain": [
       "(48.210805856282846, 51.789194143717154)"
      ]
     },
     "execution_count": 1,
     "metadata": {},
     "output_type": "execute_result"
    }
   ],
   "source": [
    "# Example calculation of 95% confidence interval for a sample mean\n",
    "import numpy as np\n",
    "import scipy.stats as stats\n",
    "\n",
    "mean = 50\n",
    "std_dev = 5\n",
    "n = 30\n",
    "confidence_level = 0.95\n",
    "z_score = stats.norm.ppf(1 - (1 - confidence_level) / 2)\n",
    "margin_of_error = z_score * (std_dev / np.sqrt(n))\n",
    "confidence_interval = (mean - margin_of_error, mean + margin_of_error)\n",
    "confidence_interval"
   ]
  },
  {
   "cell_type": "markdown",
   "id": "6a081868-c564-485e-ae67-73578bba99ef",
   "metadata": {},
   "source": [
    "## Q6: Use Bayes' Theorem to calculate the probability of an event occurring given prior knowledge of the event's probability and new evidence. Provide a sample problem and solution.\n",
    "\n",
    "### Example:\n",
    "- Prior probability of having the disease (P(A)) = 0.01\n",
    "- Probability of a positive test given the disease (P(B|A)) = 0.95\n",
    "- Probability of a positive test given no disease (P(B|not A)) = 0.1\n",
    "\n"
   ]
  },
  {
   "cell_type": "code",
   "execution_count": 4,
   "id": "f2b06b14-f65f-4c04-9dd5-440d9292d6b1",
   "metadata": {},
   "outputs": [
    {
     "data": {
      "text/plain": [
       "0.08755760368663594"
      ]
     },
     "execution_count": 4,
     "metadata": {},
     "output_type": "execute_result"
    }
   ],
   "source": [
    "### Calculation:\n",
    "P_A = 0.01  # Prior probability of having the disease\n",
    "P_B_given_A = 0.95  # Probability of a positive test given the disease\n",
    "P_B_given_not_A = 0.1  # Probability of a positive test given no disease\n",
    "P_not_A = 1 - P_A\n",
    "\n",
    "P_B = P_B_given_A * P_A + P_B_given_not_A * P_not_A\n",
    "P_A_given_B = (P_B_given_A * P_A) / P_B\n",
    "P_A_given_B\n"
   ]
  },
  {
   "cell_type": "code",
   "execution_count": 5,
   "id": "a42833b7-e933-405d-994c-175b69b8122a",
   "metadata": {},
   "outputs": [
    {
     "data": {
      "text/plain": [
       "(48.210805856282846, 51.789194143717154)"
      ]
     },
     "execution_count": 5,
     "metadata": {},
     "output_type": "execute_result"
    }
   ],
   "source": [
    "## Q7: Calculate the 95% confidence interval for a sample of data with a mean of 50 and a standard deviation of 5. Interpret the results.\n",
    "\n",
    "mean = 50\n",
    "std_dev = 5\n",
    "n = 30\n",
    "confidence_level = 0.95\n",
    "z_score = stats.norm.ppf(1 - (1 - confidence_level) / 2)\n",
    "margin_of_error = z_score * (std_dev / np.sqrt(n))\n",
    "confidence_interval = (mean - margin_of_error, mean + margin_of_error)\n",
    "confidence_interval\n"
   ]
  },
  {
   "cell_type": "markdown",
   "id": "cf2efa41-1a25-42ed-b71b-bd3b31db4c34",
   "metadata": {},
   "source": [
    "## Q8: What is the margin of error in a confidence interval? How does sample size affect the margin of error? Provide an example of a scenario where a larger sample size would result in a smaller margin of error.\n",
    "\n",
    "### Answer:\n",
    "The margin of error is the range of values below and above the sample statistic in a confidence interval. \n",
    "\n",
    "### Example of how sample size affects margin of error:\n"
   ]
  },
  {
   "cell_type": "code",
   "execution_count": 6,
   "id": "048e1b74-209d-40f6-9c9c-bcdc368472c4",
   "metadata": {},
   "outputs": [
    {
     "data": {
      "text/plain": [
       "(1.7891941437171572, 0.979981992270027)"
      ]
     },
     "execution_count": 6,
     "metadata": {},
     "output_type": "execute_result"
    }
   ],
   "source": [
    "mean = 50\n",
    "std_dev = 5\n",
    "confidence_level = 0.95\n",
    "sample_size_small = 30\n",
    "sample_size_large = 100\n",
    "\n",
    "margin_of_error_small = stats.norm.ppf(1 - (1 - confidence_level) / 2) * (std_dev / np.sqrt(sample_size_small))\n",
    "margin_of_error_large = stats.norm.ppf(1 - (1 - confidence_level) / 2) * (std_dev / np.sqrt(sample_size_large))\n",
    "margin_of_error_small, margin_of_error_large\n"
   ]
  },
  {
   "cell_type": "code",
   "execution_count": 7,
   "id": "2f6f473a-fc6d-4f54-9908-33dc05aa12e0",
   "metadata": {},
   "outputs": [
    {
     "data": {
      "text/plain": [
       "1.0"
      ]
     },
     "execution_count": 7,
     "metadata": {},
     "output_type": "execute_result"
    }
   ],
   "source": [
    "# Q9: Calculate the z-score for a data point with a value of 75, a population mean of 70, and a population standard deviation of 5. Interpret the results.\n",
    "\n",
    "value = 75\n",
    "population_mean = 70\n",
    "population_std_dev = 5\n",
    "z_score = (value - population_mean) / population_std_dev\n",
    "z_score\n"
   ]
  },
  {
   "cell_type": "markdown",
   "id": "f86c0115-c122-4852-a29c-87997e8e4217",
   "metadata": {},
   "source": [
    "## Q10: In a study of the effectiveness of a new weight loss drug, a sample of 50 participants lost an average of 6 pounds with a standard deviation of 2.5 pounds. Conduct a hypothesis test to determine if the drug is significantly effective at a 95% confidence level using a t-test.\n",
    "\n"
   ]
  },
  {
   "cell_type": "code",
   "execution_count": 8,
   "id": "d463222d-b9f6-463b-8272-884bc357dc1b",
   "metadata": {},
   "outputs": [
    {
     "data": {
      "text/plain": [
       "(16.02989046359322, 3.99970077587776e-21)"
      ]
     },
     "execution_count": 8,
     "metadata": {},
     "output_type": "execute_result"
    }
   ],
   "source": [
    "sample_mean = 6\n",
    "sample_std_dev = 2.5\n",
    "n = 50\n",
    "population_mean = 0  # Assuming no weight loss as null hypothesis\n",
    "confidence_level = 0.95\n",
    "t_statistic, p_value = stats.ttest_1samp(a=np.random.normal(sample_mean, sample_std_dev, n), popmean=population_mean)\n",
    "t_statistic, p_value\n"
   ]
  },
  {
   "cell_type": "markdown",
   "id": "5e59f769-6f72-485f-b0df-a8db892b542c",
   "metadata": {},
   "source": [
    "## Q11: In a survey of 500 people, 65% reported being satisfied with their current job. Calculate the 95% confidence interval for the true proportion of people who are satisfied with their job.\n",
    "\n"
   ]
  },
  {
   "cell_type": "code",
   "execution_count": 9,
   "id": "90bac9f5-7ca5-4ba7-aebf-4801c7a10101",
   "metadata": {},
   "outputs": [
    {
     "data": {
      "text/plain": [
       "(0.6081925393809212, 0.6918074606190788)"
      ]
     },
     "execution_count": 9,
     "metadata": {},
     "output_type": "execute_result"
    }
   ],
   "source": [
    "p_hat = 0.65\n",
    "n = 500\n",
    "confidence_level = 0.95\n",
    "z_score = stats.norm.ppf(1 - (1 - confidence_level) / 2)\n",
    "margin_of_error = z_score * np.sqrt((p_hat * (1 - p_hat)) / n)\n",
    "confidence_interval = (p_hat - margin_of_error, p_hat + margin_of_error)\n",
    "confidence_interval\n"
   ]
  },
  {
   "cell_type": "markdown",
   "id": "4b8de21c-86e8-425a-9956-27fe9daa44e8",
   "metadata": {},
   "source": [
    "## Q12: A researcher is testing the effectiveness of two different teaching methods on student performance. Sample A has a mean score of 85 with a standard deviation of 6, while sample B has a mean score of 82 with a standard deviation of 5. Conduct a hypothesis test to determine if the two teaching methods have a significant difference in student performance using a t-test with a significance level of 0.01.\n",
    "\n"
   ]
  },
  {
   "cell_type": "code",
   "execution_count": 10,
   "id": "67213fd8-abc6-4638-a1c7-f12d0bf7bff4",
   "metadata": {},
   "outputs": [
    {
     "data": {
      "text/plain": [
       "(2.1038606199548298, 0.03987998118234142)"
      ]
     },
     "execution_count": 10,
     "metadata": {},
     "output_type": "execute_result"
    }
   ],
   "source": [
    "mean_A = 85\n",
    "std_dev_A = 6\n",
    "n_A = 30\n",
    "mean_B = 82\n",
    "std_dev_B = 5\n",
    "n_B = 30\n",
    "t_statistic, p_value = stats.ttest_ind_from_stats(mean1=mean_A, std1=std_dev_A, nobs1=n_A, mean2=mean_B, std2=std_dev_B, nobs2=n_B, equal_var=False)\n",
    "t_statistic, p_value\n"
   ]
  },
  {
   "cell_type": "markdown",
   "id": "a2bc0506-5c10-4326-9374-a6ec1c771d7f",
   "metadata": {},
   "source": [
    "## Q13: A population has a mean of 60 and a standard deviation of 8. A sample of 50 observations has a mean of 65. Calculate the 90% confidence interval for the true population mean.\n",
    "\n"
   ]
  },
  {
   "cell_type": "code",
   "execution_count": 11,
   "id": "cde43d74-6035-4d08-8835-e64ac1fac4d0",
   "metadata": {},
   "outputs": [
    {
     "data": {
      "text/plain": [
       "(63.10319919251691, 66.89680080748309)"
      ]
     },
     "execution_count": 11,
     "metadata": {},
     "output_type": "execute_result"
    }
   ],
   "source": [
    "sample_mean = 65\n",
    "sample_std_dev = 8\n",
    "n = 50\n",
    "confidence_level = 0.90\n",
    "t_score = stats.t.ppf(1 - (1 - confidence_level) / 2, df=n-1)\n",
    "margin_of_error = t_score * (sample_std_dev / np.sqrt(n))\n",
    "confidence_interval = (sample_mean - margin_of_error, sample_mean + margin_of_error)\n",
    "confidence_interval\n"
   ]
  },
  {
   "cell_type": "markdown",
   "id": "b9a97be6-7e35-454d-93ad-4ff295dc64df",
   "metadata": {},
   "source": [
    "## Q14: In a study of the effects of caffeine on reaction time, a sample of 30 participants had an average reaction time of 0.25 seconds with a standard deviation of 0.05 seconds. Conduct a hypothesis test to determine if the caffeine has a significant effect on reaction time at a 90% confidence level using a t-test.\n",
    "\n"
   ]
  },
  {
   "cell_type": "code",
   "execution_count": 12,
   "id": "e36ffc74-167e-4be1-840c-430617860cf2",
   "metadata": {},
   "outputs": [
    {
     "data": {
      "text/plain": [
       "(-5.075088368960469, 2.058758348313947e-05)"
      ]
     },
     "execution_count": 12,
     "metadata": {},
     "output_type": "execute_result"
    }
   ],
   "source": [
    "sample_mean = 0.25\n",
    "sample_std_dev = 0.05\n",
    "n = 30\n",
    "population_mean = 0.3  # Assuming no effect on reaction time as null hypothesis\n",
    "confidence_level = 0.90\n",
    "t_statistic, p_value = stats.ttest_1samp(a=np.random.normal(sample_mean, sample_std_dev, n), popmean=population_mean)\n",
    "t_statistic, p_value\n"
   ]
  },
  {
   "cell_type": "code",
   "execution_count": null,
   "id": "b6c10d6e-088d-4621-8172-2b641efe5d6a",
   "metadata": {},
   "outputs": [],
   "source": []
  }
 ],
 "metadata": {
  "kernelspec": {
   "display_name": "Python 3 (ipykernel)",
   "language": "python",
   "name": "python3"
  },
  "language_info": {
   "codemirror_mode": {
    "name": "ipython",
    "version": 3
   },
   "file_extension": ".py",
   "mimetype": "text/x-python",
   "name": "python",
   "nbconvert_exporter": "python",
   "pygments_lexer": "ipython3",
   "version": "3.10.8"
  }
 },
 "nbformat": 4,
 "nbformat_minor": 5
}
